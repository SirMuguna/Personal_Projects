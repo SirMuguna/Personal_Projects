{
 "cells": [
  {
   "cell_type": "code",
   "execution_count": 2,
   "metadata": {},
   "outputs": [],
   "source": [
    "# Import the necessary packages.\n",
    "import pandas as pd\n",
    "import numpy as np\n",
    "import matplotlib.pyplot as plt\n",
    "import seaborn as sns\n",
    "from scipy.stats import pearsonr"
   ]
  },
  {
   "cell_type": "code",
   "execution_count": 3,
   "metadata": {},
   "outputs": [
    {
     "name": "stdout",
     "output_type": "stream",
     "text": [
      "<class 'pandas.core.frame.DataFrame'>\n",
      "RangeIndex: 264834 entries, 0 to 264833\n",
      "Data columns (total 12 columns):\n",
      " #   Column            Non-Null Count   Dtype  \n",
      "---  ------            --------------   -----  \n",
      " 0   LYLTY_CARD_NBR    264834 non-null  int64  \n",
      " 1   DATE              264834 non-null  object \n",
      " 2   STORE_NBR         264834 non-null  int64  \n",
      " 3   TXN_ID            264834 non-null  int64  \n",
      " 4   PROD_NBR          264834 non-null  int64  \n",
      " 5   PROD_NAME         264834 non-null  object \n",
      " 6   PROD_QTY          264834 non-null  int64  \n",
      " 7   TOT_SALES         264834 non-null  float64\n",
      " 8   PACK_SIZE         264834 non-null  int64  \n",
      " 9   BRAND             264834 non-null  object \n",
      " 10  LIFESTAGE         264834 non-null  object \n",
      " 11  PREMIUM_CUSTOMER  264834 non-null  object \n",
      "dtypes: float64(1), int64(6), object(5)\n",
      "memory usage: 24.2+ MB\n",
      "None\n"
     ]
    }
   ],
   "source": [
    "# Create a dataframe.\n",
    "control_stores = pd.read_csv('/home/sirmuguna/projects/Personal_Projects/Data_Analytics/quantium/dataset/QVI_data.csv')\n",
    "print(control_stores.info())"
   ]
  },
  {
   "cell_type": "code",
   "execution_count": 4,
   "metadata": {},
   "outputs": [
    {
     "name": "stdout",
     "output_type": "stream",
     "text": [
      "STORE_NBR     77       86       88\n",
      "MONTH                             \n",
      "1          204.4   841.40  1266.40\n",
      "2          235.0   913.20  1370.20\n",
      "3          278.5  1026.80  1477.20\n",
      "4          263.5   848.20  1439.40\n",
      "5          299.3   889.30  1308.25\n",
      "6          264.7   838.00  1354.60\n",
      "7          296.8   892.20  1310.00\n",
      "8          255.5   764.05  1323.80\n",
      "9          225.2   914.60  1423.00\n",
      "10         204.5   948.40  1352.40\n",
      "11         245.3   918.00  1382.80\n",
      "12         267.3   841.20  1325.20\n"
     ]
    }
   ],
   "source": [
    "# Get the total sales revenue per store per month.\n",
    "# Filter for stores 77, 86, 88\n",
    "control_stores_filtered = control_stores[control_stores['STORE_NBR'].isin([77, 86, 88])]\n",
    "\n",
    "# Calculate the total sales revenue per store per month\n",
    "total_sales_revenue_per_store_per_month = control_stores_filtered.groupby(['STORE_NBR', 'DATE'])['TOT_SALES'].sum()\n",
    "\n",
    "# Reset the index\n",
    "total_sales_revenue_per_store_per_month = total_sales_revenue_per_store_per_month.reset_index()\n",
    "\n",
    "# Extract the month from the DATE column\n",
    "total_sales_revenue_per_store_per_month['MONTH'] = pd.to_datetime(total_sales_revenue_per_store_per_month['DATE']).dt.month\n",
    "\n",
    "# Pivot the table to get the total sales revenue per store per month\n",
    "total_sales_revenue_per_store_per_month = total_sales_revenue_per_store_per_month.pivot_table(values='TOT_SALES', index='MONTH', columns='STORE_NBR', aggfunc='sum')\n",
    "\n",
    "# Print the results\n",
    "print(total_sales_revenue_per_store_per_month)"
   ]
  },
  {
   "cell_type": "code",
   "execution_count": 5,
   "metadata": {},
   "outputs": [
    {
     "name": "stdout",
     "output_type": "stream",
     "text": [
      "STORE_NBR        77        86        88\n",
      "MONTH                                  \n",
      "1           3012973  11197109  12875401\n",
      "2           3476372  12936286  13577413\n",
      "3           4247308  12436534  14994051\n",
      "4           3710142  11144230  14289528\n",
      "5           4325162  11109216  13671179\n",
      "6          14509626  10248615  13227973\n",
      "7          15515929  10851870  13491241\n",
      "8           3708076  10131592  20957504\n",
      "9          10156424  11109383  14024708\n",
      "10          2935575  11884409  23062115\n",
      "11         19169576  11284157  13845499\n",
      "12          3785902  10335626  22423013\n"
     ]
    }
   ],
   "source": [
    "# Get the total number of customer per store.\n",
    "# Filter for stores 77, 86, 88\n",
    "control_stores_filtered = control_stores[control_stores['STORE_NBR'].isin([77, 86, 88])]\n",
    "\n",
    "# Calculate the total number of customers per store per month\n",
    "total_customers_per_store_per_month = control_stores_filtered.groupby(['STORE_NBR', 'DATE'])['LYLTY_CARD_NBR'].sum()\n",
    "\n",
    "# Reset the index\n",
    "total_customers_per_store_per_month = total_customers_per_store_per_month.reset_index()\n",
    "\n",
    "# Extract the month from the DATE column\n",
    "total_customers_per_store_per_month['MONTH'] = pd.to_datetime(total_customers_per_store_per_month['DATE']).dt.month\n",
    "\n",
    "# Pivot the table to get the total customers per store per month\n",
    "total_customers_per_store_per_month = total_customers_per_store_per_month.pivot_table(values='LYLTY_CARD_NBR', index='MONTH', columns='STORE_NBR', aggfunc='sum')\n",
    "\n",
    "# Print the results\n",
    "print(total_customers_per_store_per_month)"
   ]
  },
  {
   "cell_type": "code",
   "execution_count": 6,
   "metadata": {},
   "outputs": [
    {
     "name": "stdout",
     "output_type": "stream",
     "text": [
      "    STORE_NBR  MONTH  TXN_PER_CUSTOMER\n",
      "0          77      1              39.0\n",
      "1          77      2              45.0\n",
      "2          77      3              55.0\n",
      "3          77      4              48.0\n",
      "4          77      5              56.0\n",
      "5          77      6              42.0\n",
      "6          77      7              55.0\n",
      "7          77      8              48.0\n",
      "8          77      9              44.0\n",
      "9          77     10              38.0\n",
      "10         77     11              44.0\n",
      "11         77     12              49.0\n",
      "12         86      1             130.0\n",
      "13         86      2             139.0\n",
      "14         86      3             142.0\n",
      "15         86      4             127.0\n",
      "16         86      5             129.0\n",
      "17         86      6             119.0\n",
      "18         86      7             126.0\n",
      "19         86      8             112.0\n",
      "20         86      9             129.0\n",
      "21         86     10             138.0\n",
      "22         86     11             127.0\n",
      "23         86     12             120.0\n",
      "24         88      1             146.0\n",
      "25         88      2             154.0\n",
      "26         88      3             170.0\n",
      "27         88      4             162.0\n",
      "28         88      5             155.0\n",
      "29         88      6             150.0\n",
      "30         88      7             153.0\n",
      "31         88      8             160.0\n",
      "32         88      9             159.0\n",
      "33         88     10             158.0\n",
      "34         88     11             157.0\n",
      "35         88     12             149.0\n"
     ]
    }
   ],
   "source": [
    "#Get the average number of transaction per customer, per store and month.\n",
    "def g(df):\n",
    "    df['MONTH'] = pd.to_datetime(df['DATE']).dt.month\n",
    "    df['CUSTOMER_ID'] = df.groupby(['STORE_NBR', 'MONTH'])['LYLTY_CARD_NBR'].transform('nunique')\n",
    "    df['TXN_PER_CUSTOMER'] = df.groupby(['STORE_NBR', 'MONTH', 'CUSTOMER_ID'])['TXN_ID'].transform('count')\n",
    "    return df.groupby(['STORE_NBR', 'MONTH'])['TXN_PER_CUSTOMER'].mean()\n",
    "\n",
    "# Filter for stores 77, 86, 88\n",
    "control_stores_filtered = control_stores[control_stores['STORE_NBR'].isin([77, 86, 88])]\n",
    "\n",
    "# Calculate the average number of transactions per customer per store and per month\n",
    "avg_txn_per_customer_per_store_per_month = g(control_stores_filtered.copy())\n",
    "\n",
    "# Convert it to a DataFrame with appropriate column names\n",
    "avg_txn_per_customer_per_store_per_month = avg_txn_per_customer_per_store_per_month.reset_index()\n",
    "avg_txn_per_customer_per_store_per_month.columns = ['STORE_NBR', 'MONTH', 'TXN_PER_CUSTOMER']\n",
    "\n",
    "# Now you can apply the pivot_table method\n",
    "pivot_table_result = avg_txn_per_customer_per_store_per_month.pivot_table(\n",
    "    values='TXN_PER_CUSTOMER',\n",
    "    index='STORE_NBR',\n",
    "    columns='MONTH',\n",
    "    aggfunc='mean'\n",
    ")\n",
    "# Print the results\n",
    "print(avg_txn_per_customer_per_store_per_month)"
   ]
  }
 ],
 "metadata": {
  "kernelspec": {
   "display_name": "Python 3",
   "language": "python",
   "name": "python3"
  },
  "language_info": {
   "codemirror_mode": {
    "name": "ipython",
    "version": 3
   },
   "file_extension": ".py",
   "mimetype": "text/x-python",
   "name": "python",
   "nbconvert_exporter": "python",
   "pygments_lexer": "ipython3",
   "version": "3.10.12"
  },
  "orig_nbformat": 4
 },
 "nbformat": 4,
 "nbformat_minor": 2
}
